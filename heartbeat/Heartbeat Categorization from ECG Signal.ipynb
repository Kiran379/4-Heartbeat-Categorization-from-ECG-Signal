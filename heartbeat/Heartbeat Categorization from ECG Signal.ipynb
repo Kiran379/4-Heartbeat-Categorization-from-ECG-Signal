{
 "cells": [
  {
   "cell_type": "markdown",
   "metadata": {},
   "source": [
    "# ECG Heartbeat Categorization Dataset\n",
    "Kaggle dataset: https://www.kaggle.com/shayanfazeli/heartbeat\n",
    "\n",
    "Work by:\n",
    "Lee Lin Jie (LJ Lee)\n",
    "- PhD in Life Sciences\n",
    "- Aspiring Data Scientist\n",
    "Email: ljleeworking@gmail.com"
   ]
  },
  {
   "cell_type": "markdown",
   "metadata": {},
   "source": [
    "# Introduction\n",
    "\n",
    "#### Arrhythmia is a problem with the rate or rhythm of your heartbeat(too fast / too slow / irregular pattern)\n",
    "\n",
    "<img src=\"arrhythmia.jpg\" width=\"440\" height=\"440\" >\n",
    "\n",
    "\n",
    "\n",
    "#### Factors that affect heart's rhythm: heart attack, smoking, congenital heart defects, and stress. Some substances or medicines may also cause arrhythmias. \n",
    "\n",
    "#### Identification of the types of arrhythmia will facilaite treatment to restore a normal heart rhythm.\n",
    "\n",
    "#### Arrhythmia Dataset: composed of  heartbeat signals derived from the MIT-BIH Arrhythmia Dataset to classify heartbeat.\n",
    "\n",
    "\n",
    "- Number of Samples: 109446\n",
    "- Number of Categories: 5\n",
    "- Sampling Frequency: 125Hz\n",
    "- Data Source: Physionet's MIT-BIH Arrhythmia Dataset\n",
    "- Classes: ['N': 0, 'S': 1, 'V': 2, 'F': 3, 'Q': 4]"
   ]
  },
  {
   "cell_type": "markdown",
   "metadata": {},
   "source": [
    "# Part 1-Data cleaning and EDA"
   ]
  },
  {
   "cell_type": "code",
   "execution_count": 1,
   "metadata": {},
   "outputs": [],
   "source": [
    "import pandas as pd\n",
    "import numpy as np\n",
    "import warnings\n",
    "warnings.filterwarnings(\"ignore\")\n",
    "\n",
    "# load the csv files\n",
    "\n",
    "test_df = pd.read_csv('./mitbih_test.csv',header=None)\n",
    "train_df = pd.read_csv('./mitbih_train.csv',header=None)"
   ]
  },
  {
   "cell_type": "code",
   "execution_count": 4,
   "metadata": {},
   "outputs": [
    {
     "name": "stdout",
     "output_type": "stream",
     "text": [
      "(87554, 188)\n",
      "<class 'pandas.core.frame.DataFrame'>\n",
      "RangeIndex: 87554 entries, 0 to 87553\n",
      "Columns: 188 entries, 0 to 187\n",
      "dtypes: float64(188)\n",
      "memory usage: 125.6 MB\n",
      "None\n",
      "        0         1         2         3         4         5         6    \\\n",
      "0  0.977941  0.926471  0.681373  0.245098  0.154412  0.191176  0.151961   \n",
      "1  0.960114  0.863248  0.461538  0.196581  0.094017  0.125356  0.099715   \n",
      "2  1.000000  0.659459  0.186486  0.070270  0.070270  0.059459  0.056757   \n",
      "3  0.925414  0.665746  0.541436  0.276243  0.196133  0.077348  0.071823   \n",
      "4  0.967136  1.000000  0.830986  0.586854  0.356808  0.248826  0.145540   \n",
      "\n",
      "        7         8         9    ...  178  179  180  181  182  183  184  185  \\\n",
      "0  0.085784  0.058824  0.049020  ...  0.0  0.0  0.0  0.0  0.0  0.0  0.0  0.0   \n",
      "1  0.088319  0.074074  0.082621  ...  0.0  0.0  0.0  0.0  0.0  0.0  0.0  0.0   \n",
      "2  0.043243  0.054054  0.045946  ...  0.0  0.0  0.0  0.0  0.0  0.0  0.0  0.0   \n",
      "3  0.060773  0.066298  0.058011  ...  0.0  0.0  0.0  0.0  0.0  0.0  0.0  0.0   \n",
      "4  0.089202  0.117371  0.150235  ...  0.0  0.0  0.0  0.0  0.0  0.0  0.0  0.0   \n",
      "\n",
      "   186  187  \n",
      "0  0.0  0.0  \n",
      "1  0.0  0.0  \n",
      "2  0.0  0.0  \n",
      "3  0.0  0.0  \n",
      "4  0.0  0.0  \n",
      "\n",
      "[5 rows x 188 columns]\n"
     ]
    }
   ],
   "source": [
    "# Check the train dataset\n",
    "print(train_df.shape)\n",
    "# 87554 rows, 188 column\n",
    "print(train_df.info())\n",
    "# No null\n",
    "print(train_df.head())"
   ]
  },
  {
   "cell_type": "code",
   "execution_count": 5,
   "metadata": {},
   "outputs": [
    {
     "name": "stdout",
     "output_type": "stream",
     "text": [
      "0 23408\n",
      "1 42845\n",
      "2 49611\n",
      "3 41007\n",
      "4 39328\n",
      "5 40559\n",
      "6 40516\n",
      "7 40423\n",
      "8 40305\n",
      "9 39950\n",
      "10 40106\n",
      "11 40347\n",
      "12 40320\n",
      "13 40628\n",
      "14 41177\n",
      "15 41671\n",
      "16 42091\n",
      "17 42404\n",
      "18 42914\n",
      "19 43188\n",
      "20 43678\n",
      "21 44172\n",
      "22 44576\n",
      "23 44779\n",
      "24 45154\n",
      "25 45500\n",
      "26 45612\n",
      "27 46051\n",
      "28 46434\n",
      "29 46729\n",
      "30 46719\n",
      "31 46839\n",
      "32 46364\n",
      "33 46230\n",
      "34 46283\n",
      "35 46241\n",
      "36 46005\n",
      "37 45864\n",
      "38 45604\n",
      "39 45630\n",
      "40 45347\n",
      "41 44982\n",
      "42 44738\n",
      "43 44358\n",
      "44 44234\n",
      "45 43859\n",
      "46 43714\n",
      "47 43539\n",
      "48 43191\n",
      "49 43062\n",
      "50 43036\n",
      "51 42994\n",
      "52 42901\n",
      "53 43068\n",
      "54 43079\n",
      "55 43168\n",
      "56 43194\n",
      "57 43126\n",
      "58 43094\n",
      "59 43344\n",
      "60 43493\n",
      "61 43551\n",
      "62 43608\n",
      "63 43540\n",
      "64 43689\n",
      "65 43826\n",
      "66 43789\n",
      "67 43571\n",
      "68 43632\n",
      "69 43398\n",
      "70 43182\n",
      "71 42983\n",
      "72 42859\n",
      "73 42587\n",
      "74 42472\n",
      "75 42266\n",
      "76 42506\n",
      "77 42441\n",
      "78 42505\n",
      "79 42155\n",
      "80 41864\n",
      "81 41514\n",
      "82 41141\n",
      "83 41031\n",
      "84 40877\n",
      "85 40759\n",
      "86 40387\n",
      "87 40090\n",
      "88 39757\n",
      "89 38969\n",
      "90 38494\n",
      "91 37927\n",
      "92 37172\n",
      "93 36701\n",
      "94 36032\n",
      "95 35862\n",
      "96 35574\n",
      "97 35019\n",
      "98 34649\n",
      "99 34352\n",
      "100 33787\n",
      "101 33370\n",
      "102 32584\n",
      "103 31973\n",
      "104 31198\n",
      "105 30619\n",
      "106 29791\n",
      "107 29163\n",
      "108 28263\n",
      "109 27653\n",
      "110 26803\n",
      "111 26382\n",
      "112 25511\n",
      "113 25132\n",
      "114 24587\n",
      "115 24108\n",
      "116 23681\n",
      "117 23096\n",
      "118 22351\n",
      "119 21841\n",
      "120 21112\n",
      "121 20317\n",
      "122 19533\n",
      "123 18861\n",
      "124 18019\n",
      "125 17204\n",
      "126 16572\n",
      "127 15945\n",
      "128 15399\n",
      "129 14844\n",
      "130 14426\n",
      "131 13853\n",
      "132 13461\n",
      "133 12979\n",
      "134 12618\n",
      "135 12264\n",
      "136 11882\n",
      "137 11456\n",
      "138 11107\n",
      "139 10742\n",
      "140 10291\n",
      "141 10003\n",
      "142 9643\n",
      "143 9287\n",
      "144 8893\n",
      "145 8580\n",
      "146 8316\n",
      "147 7981\n",
      "148 7622\n",
      "149 7371\n",
      "150 7098\n",
      "151 6792\n",
      "152 6544\n",
      "153 6301\n",
      "154 6064\n",
      "155 5869\n",
      "156 5566\n",
      "157 5438\n",
      "158 5231\n",
      "159 5055\n",
      "160 4820\n",
      "161 4667\n",
      "162 4504\n",
      "163 4357\n",
      "164 4119\n",
      "165 3906\n",
      "166 3664\n",
      "167 3453\n",
      "168 3173\n",
      "169 2922\n",
      "170 2645\n",
      "171 2391\n",
      "172 2160\n",
      "173 1980\n",
      "174 1819\n",
      "175 1629\n",
      "176 1507\n",
      "177 1408\n",
      "178 1315\n",
      "179 1218\n",
      "180 1127\n",
      "181 1038\n",
      "182 968\n",
      "183 920\n",
      "184 843\n",
      "185 778\n",
      "186 748\n",
      "187 5\n",
      "(87554, 188)\n"
     ]
    }
   ],
   "source": [
    "# check for the unique values of each column in train data\n",
    "for item in train_df:\n",
    "    print(item, train_df[item].nunique())\n",
    "print(train_df.shape)\n",
    "# Variation has mostly different values"
   ]
  },
  {
   "cell_type": "code",
   "execution_count": 67,
   "metadata": {},
   "outputs": [
    {
     "name": "stdout",
     "output_type": "stream",
     "text": [
      "0.0    72471\n",
      "4.0     6431\n",
      "2.0     5788\n",
      "1.0     2223\n",
      "3.0      641\n",
      "Name: 187, dtype: int64\n"
     ]
    },
    {
     "data": {
      "text/plain": [
       "<matplotlib.axes._subplots.AxesSubplot at 0x255a92350f0>"
      ]
     },
     "execution_count": 67,
     "metadata": {},
     "output_type": "execute_result"
    },
    {
     "data": {
      "image/png": "[encoded data removed]",
      "text/plain": [
       "<Figure size 432x288 with 1 Axes>"
      ]
     },
     "metadata": {
      "needs_background": "light"
     },
     "output_type": "display_data"
    }
   ],
   "source": [
    "import matplotlib.pyplot as plt\n",
    "import pandas as pd\n",
    "\n",
    "CountStatus = pd.value_counts(train_df[187], sort=True)\n",
    "print(CountStatus)\n",
    "\n",
    "CountStatus.plot.bar()"
   ]
  },
  {
   "cell_type": "code",
   "execution_count": 2,
   "metadata": {},
   "outputs": [
    {
     "name": "stdout",
     "output_type": "stream",
     "text": [
      "(21892, 188)\n",
      "<class 'pandas.core.frame.DataFrame'>\n",
      "RangeIndex: 21892 entries, 0 to 21891\n",
      "Columns: 188 entries, 0 to 187\n",
      "dtypes: float64(188)\n",
      "memory usage: 31.4 MB\n",
      "None\n",
      "        0         1         2         3         4         5         6    \\\n",
      "0  1.000000  0.758264  0.111570  0.000000  0.080579  0.078512  0.066116   \n",
      "1  0.908425  0.783883  0.531136  0.362637  0.366300  0.344322  0.333333   \n",
      "2  0.730088  0.212389  0.000000  0.119469  0.101770  0.101770  0.110619   \n",
      "3  1.000000  0.910417  0.681250  0.472917  0.229167  0.068750  0.000000   \n",
      "4  0.570470  0.399329  0.238255  0.147651  0.000000  0.003356  0.040268   \n",
      "\n",
      "        7         8         9    ...  178  179  180  181  182  183  184  185  \\\n",
      "0  0.049587  0.047521  0.035124  ...  0.0  0.0  0.0  0.0  0.0  0.0  0.0  0.0   \n",
      "1  0.307692  0.296703  0.300366  ...  0.0  0.0  0.0  0.0  0.0  0.0  0.0  0.0   \n",
      "2  0.123894  0.115044  0.132743  ...  0.0  0.0  0.0  0.0  0.0  0.0  0.0  0.0   \n",
      "3  0.004167  0.014583  0.054167  ...  0.0  0.0  0.0  0.0  0.0  0.0  0.0  0.0   \n",
      "4  0.080537  0.070470  0.090604  ...  0.0  0.0  0.0  0.0  0.0  0.0  0.0  0.0   \n",
      "\n",
      "   186  187  \n",
      "0  0.0  0.0  \n",
      "1  0.0  0.0  \n",
      "2  0.0  0.0  \n",
      "3  0.0  0.0  \n",
      "4  0.0  0.0  \n",
      "\n",
      "[5 rows x 188 columns]\n"
     ]
    }
   ],
   "source": [
    "# Check the test dataset\n",
    "print(test_df.shape)\n",
    "#21892 rows, 188 columns\n",
    "print(test_df.info())\n",
    "# no null values\n",
    "print(test_df.head())"
   ]
  },
  {
   "cell_type": "code",
   "execution_count": 3,
   "metadata": {},
   "outputs": [
    {
     "name": "stdout",
     "output_type": "stream",
     "text": [
      "0 8507\n",
      "1 16139\n",
      "2 17462\n",
      "3 15054\n",
      "4 15217\n",
      "5 15453\n",
      "6 15565\n",
      "7 15672\n",
      "8 15641\n",
      "9 15562\n",
      "10 15615\n",
      "11 15713\n",
      "12 15740\n",
      "13 15729\n",
      "14 15872\n",
      "15 16053\n",
      "16 16004\n",
      "17 16205\n",
      "18 16240\n",
      "19 16416\n",
      "20 16452\n",
      "21 16474\n",
      "22 16626\n",
      "23 16708\n",
      "24 16706\n",
      "25 16807\n",
      "26 16836\n",
      "27 16918\n",
      "28 17146\n",
      "29 17148\n",
      "30 17116\n",
      "31 17051\n",
      "32 17042\n",
      "33 16954\n",
      "34 16988\n",
      "35 16935\n",
      "36 16900\n",
      "37 16922\n",
      "38 16841\n",
      "39 16821\n",
      "40 16794\n",
      "41 16665\n",
      "42 16616\n",
      "43 16592\n",
      "44 16550\n",
      "45 16460\n",
      "46 16390\n",
      "47 16314\n",
      "48 16306\n",
      "49 16227\n",
      "50 16288\n",
      "51 16241\n",
      "52 16316\n",
      "53 16241\n",
      "54 16286\n",
      "55 16226\n",
      "56 16244\n",
      "57 16277\n",
      "58 16151\n",
      "59 16192\n",
      "60 16315\n",
      "61 16358\n",
      "62 16299\n",
      "63 16222\n",
      "64 16322\n",
      "65 16265\n",
      "66 16178\n",
      "67 16159\n",
      "68 16134\n",
      "69 16007\n",
      "70 15975\n",
      "71 15992\n",
      "72 15800\n",
      "73 15813\n",
      "74 15722\n",
      "75 15622\n",
      "76 15577\n",
      "77 15435\n",
      "78 15320\n",
      "79 15153\n",
      "80 14914\n",
      "81 14849\n",
      "82 14669\n",
      "83 14526\n",
      "84 14373\n",
      "85 14385\n",
      "86 14235\n",
      "87 14100\n",
      "88 13890\n",
      "89 13688\n",
      "90 13508\n",
      "91 13311\n",
      "92 13111\n",
      "93 12931\n",
      "94 12624\n",
      "95 12471\n",
      "96 12303\n",
      "97 12052\n",
      "98 11785\n",
      "99 11549\n",
      "100 11390\n",
      "101 11170\n",
      "102 10902\n",
      "103 10530\n",
      "104 10322\n",
      "105 9942\n",
      "106 9664\n",
      "107 9415\n",
      "108 9136\n",
      "109 8892\n",
      "110 8666\n",
      "111 8471\n",
      "112 8271\n",
      "113 8054\n",
      "114 7895\n",
      "115 7802\n",
      "116 7554\n",
      "117 7280\n",
      "118 7121\n",
      "119 6760\n",
      "120 6500\n",
      "121 6207\n",
      "122 5947\n",
      "123 5716\n",
      "124 5468\n",
      "125 5194\n",
      "126 4948\n",
      "127 4758\n",
      "128 4591\n",
      "129 4395\n",
      "130 4237\n",
      "131 4094\n",
      "132 3939\n",
      "133 3814\n",
      "134 3692\n",
      "135 3526\n",
      "136 3403\n",
      "137 3281\n",
      "138 3154\n",
      "139 3025\n",
      "140 2919\n",
      "141 2780\n",
      "142 2645\n",
      "143 2580\n",
      "144 2472\n",
      "145 2348\n",
      "146 2254\n",
      "147 2157\n",
      "148 2071\n",
      "149 1959\n",
      "150 1882\n",
      "151 1800\n",
      "152 1734\n",
      "153 1654\n",
      "154 1602\n",
      "155 1548\n",
      "156 1478\n",
      "157 1440\n",
      "158 1374\n",
      "159 1321\n",
      "160 1284\n",
      "161 1217\n",
      "162 1145\n",
      "163 1096\n",
      "164 1048\n",
      "165 990\n",
      "166 924\n",
      "167 862\n",
      "168 793\n",
      "169 719\n",
      "170 656\n",
      "171 586\n",
      "172 531\n",
      "173 481\n",
      "174 443\n",
      "175 392\n",
      "176 369\n",
      "177 330\n",
      "178 306\n",
      "179 284\n",
      "180 264\n",
      "181 252\n",
      "182 236\n",
      "183 228\n",
      "184 208\n",
      "185 194\n",
      "186 184\n",
      "187 5\n",
      "(21892, 188)\n"
     ]
    }
   ],
   "source": [
    "# check for the unique values of each column in test data\n",
    "for item in test_df:\n",
    "    print(item, test_df[item].nunique())\n",
    "print(test_df.shape)\n",
    "# last column is target column - 5 class"
   ]
  },
  {
   "cell_type": "code",
   "execution_count": 68,
   "metadata": {},
   "outputs": [
    {
     "name": "stdout",
     "output_type": "stream",
     "text": [
      "0.0    18118\n",
      "4.0     1608\n",
      "2.0     1448\n",
      "1.0      556\n",
      "3.0      162\n",
      "Name: 187, dtype: int64\n"
     ]
    },
    {
     "data": {
      "text/plain": [
       "<matplotlib.axes._subplots.AxesSubplot at 0x255a9179630>"
      ]
     },
     "execution_count": 68,
     "metadata": {},
     "output_type": "execute_result"
    },
    {
     "data": {
      "image/png": "[encoded data removed]",
      "text/plain": [
       "<Figure size 432x288 with 1 Axes>"
      ]
     },
     "metadata": {
      "needs_background": "light"
     },
     "output_type": "display_data"
    }
   ],
   "source": [
    "import matplotlib.pyplot as plt\n",
    "import pandas as pd\n",
    "\n",
    "CountStatus = pd.value_counts(test_df[187], sort=True)\n",
    "print(CountStatus)\n",
    "\n",
    "CountStatus.plot.bar()"
   ]
  },
  {
   "cell_type": "markdown",
   "metadata": {},
   "source": [
    "Summary of the EDA:\n",
    "\n",
    "- column 0 to 186 are the signals\n",
    "- There are 5 classes \n",
    "- Imbalance class with class 1 and 3 as the minority"
   ]
  },
  {
   "cell_type": "markdown",
   "metadata": {},
   "source": [
    "# Part 2-The approach for the problem\n"
   ]
  },
  {
   "cell_type": "markdown",
   "metadata": {},
   "source": [
    "### A) Model: Random forest Classifier"
   ]
  },
  {
   "cell_type": "code",
   "execution_count": 16,
   "metadata": {},
   "outputs": [
    {
     "name": "stdout",
     "output_type": "stream",
     "text": [
      "log loss: 0.29785822880140017\n",
      "              precision    recall  f1-score   support\n",
      "\n",
      "         0.0       0.97      1.00      0.98     14494\n",
      "         1.0       0.96      0.60      0.73       445\n",
      "         2.0       0.97      0.85      0.91      1158\n",
      "         3.0       0.96      0.51      0.66       128\n",
      "         4.0       0.99      0.94      0.97      1286\n",
      "\n",
      "   micro avg       0.97      0.97      0.97     17511\n",
      "   macro avg       0.97      0.78      0.85     17511\n",
      "weighted avg       0.97      0.97      0.97     17511\n",
      "\n"
     ]
    }
   ],
   "source": [
    "# RFC, no SMOTE\n",
    "\n",
    "from sklearn.ensemble import RandomForestClassifier\n",
    "from sklearn.metrics import classification_report, log_loss\n",
    "\n",
    "rfc1 = RandomForestClassifier()\n",
    "rfc1.fit(X_train, y_train)\n",
    "\n",
    "y_pred = rfc1.predict(X_val)\n",
    "\n",
    "yhat_pp = rfc1.predict_proba(X_val)\n",
    "print('log loss:', log_loss(y_val, yhat_pp))\n",
    "\n",
    "print(classification_report(y_val, y_pred,))"
   ]
  },
  {
   "cell_type": "code",
   "execution_count": 20,
   "metadata": {},
   "outputs": [
    {
     "name": "stdout",
     "output_type": "stream",
     "text": [
      "log loss: 0.3165935765317\n",
      "              precision    recall  f1-score   support\n",
      "\n",
      "         0.0       0.97      1.00      0.98     18118\n",
      "         1.0       0.97      0.58      0.73       556\n",
      "         2.0       0.97      0.85      0.91      1448\n",
      "         3.0       0.87      0.56      0.68       162\n",
      "         4.0       0.99      0.93      0.96      1608\n",
      "\n",
      "   micro avg       0.97      0.97      0.97     21892\n",
      "   macro avg       0.95      0.79      0.85     21892\n",
      "weighted avg       0.97      0.97      0.97     21892\n",
      "\n"
     ]
    }
   ],
   "source": [
    "y_test_df = test_df[187]\n",
    "X_test_df = test_df.drop([187], axis = 1)\n",
    "\n",
    "y_predict = rfc1.predict(X_test_df)\n",
    "yhat_pp = rfc1.predict_proba(X_test_df)\n",
    "\n",
    "print('log loss:', log_loss(y_test_df, yhat_pp))\n",
    "print(classification_report(y_test_df, y_predict))"
   ]
  },
  {
   "cell_type": "code",
   "execution_count": 44,
   "metadata": {},
   "outputs": [
    {
     "data": {
      "image/png": "[encoded data removed]",
      "text/plain": [
       "<Figure size 432x288 with 1 Axes>"
      ]
     },
     "metadata": {
      "needs_background": "light"
     },
     "output_type": "display_data"
    }
   ],
   "source": [
    "from imblearn.over_sampling import SMOTE\n",
    "from sklearn.metrics import recall_score\n",
    "from sklearn.metrics import accuracy_score\n",
    "from sklearn.metrics import classification_report\n",
    "import matplotlib.pyplot as plt\n",
    "from imblearn.pipeline import Pipeline\n",
    "\n",
    "rfc = RandomForestClassifier(random_state=620)\n",
    "\n",
    "for k in range(1,15):\n",
    "    sm = SMOTE(sampling_strategy='auto', k_neighbors=k, random_state=240)\n",
    "    X_smote, y_smote = sm.fit_sample(X_train, y_train)\n",
    "    rfc.fit(X_smote,y_smote)\n",
    "    smote_predict = rfc.predict(X_val)\n",
    "    recall = recall_score(y_val, smote_predict,average='macro')\n",
    "#     print ('Accuracy for Minority Class for k=',k, ':', recall)\n",
    "    plt.scatter(k, recall)"
   ]
  },
  {
   "cell_type": "code",
   "execution_count": 46,
   "metadata": {},
   "outputs": [
    {
     "name": "stdout",
     "output_type": "stream",
     "text": [
      "1.0    57977\n",
      "3.0    57977\n",
      "4.0    57977\n",
      "2.0    57977\n",
      "0.0    57977\n",
      "dtype: int64\n"
     ]
    }
   ],
   "source": [
    "import matplotlib.pyplot as plt\n",
    "import pandas as pd\n",
    "\n",
    "CountStatus = pd.value_counts(y_smote, sort=True)\n",
    "print(CountStatus)\n",
    "# all class is balanced to same ratio"
   ]
  },
  {
   "cell_type": "code",
   "execution_count": 45,
   "metadata": {},
   "outputs": [
    {
     "name": "stdout",
     "output_type": "stream",
     "text": [
      "(289885, 187)\n"
     ]
    }
   ],
   "source": [
    "sm = SMOTE(sampling_strategy='auto',k_neighbors=11, random_state=240)\n",
    "X_smote, y_smote = sm.fit_sample(X_train, y_train)\n",
    "print(X_smote.shape)"
   ]
  },
  {
   "cell_type": "code",
   "execution_count": 27,
   "metadata": {},
   "outputs": [
    {
     "name": "stdout",
     "output_type": "stream",
     "text": [
      "log loss: 0.20346616003559354\n",
      "              precision    recall  f1-score   support\n",
      "\n",
      "         0.0       0.99      0.99      0.99     14494\n",
      "         1.0       0.77      0.77      0.77       445\n",
      "         2.0       0.93      0.93      0.93      1158\n",
      "         3.0       0.74      0.67      0.70       128\n",
      "         4.0       0.98      0.97      0.98      1286\n",
      "\n",
      "   micro avg       0.97      0.97      0.97     17511\n",
      "   macro avg       0.88      0.87      0.87     17511\n",
      "weighted avg       0.97      0.97      0.97     17511\n",
      "\n"
     ]
    }
   ],
   "source": [
    "# RFC, SMOTE\n",
    "\n",
    "rfc2 = RandomForestClassifier(random_state=620)\n",
    "rfc2.fit(X_smote, y_smote)\n",
    "\n",
    "y_predict2 = rfc2.predict(X_val)\n",
    "\n",
    "yhat_pp = rfc2.predict_proba(X_val)\n",
    "print('log loss:', log_loss(y_val, yhat_pp))\n",
    "\n",
    "print(classification_report(y_val, y_predict2,))\n",
    "# SMOTE improve RFC results slightly"
   ]
  },
  {
   "cell_type": "code",
   "execution_count": 107,
   "metadata": {},
   "outputs": [
    {
     "name": "stdout",
     "output_type": "stream",
     "text": [
      "log loss: 0.2199296065300651\n",
      "              precision    recall  f1-score   support\n",
      "\n",
      "         0.0       0.98      0.99      0.99     18118\n",
      "         1.0       0.78      0.76      0.77       556\n",
      "         2.0       0.93      0.92      0.93      1448\n",
      "         3.0       0.73      0.72      0.72       162\n",
      "         4.0       0.99      0.96      0.98      1608\n",
      "\n",
      "   micro avg       0.97      0.97      0.97     21892\n",
      "   macro avg       0.88      0.87      0.88     21892\n",
      "weighted avg       0.97      0.97      0.97     21892\n",
      "\n"
     ]
    }
   ],
   "source": [
    "# predict test data\n",
    "y_predict2 = rfc2.predict(X_test_df)\n",
    "yhat_pp = rfc2.predict_proba(X_test_df)\n",
    "\n",
    "print('log loss:', log_loss(y_test_df, yhat_pp))\n",
    "print(classification_report(y_test_df, y_predict))\n",
    "# SMOTE improve RFC results slightly"
   ]
  },
  {
   "cell_type": "markdown",
   "metadata": {},
   "source": [
    "### B) Model:  XGBoost"
   ]
  },
  {
   "cell_type": "code",
   "execution_count": 22,
   "metadata": {},
   "outputs": [
    {
     "name": "stdout",
     "output_type": "stream",
     "text": [
      "log loss: 0.15430224313349417\n",
      "              precision    recall  f1-score   support\n",
      "\n",
      "         0.0       0.96      1.00      0.98     14494\n",
      "         1.0       0.90      0.52      0.66       445\n",
      "         2.0       0.96      0.77      0.86      1158\n",
      "         3.0       0.90      0.37      0.52       128\n",
      "         4.0       0.98      0.92      0.95      1286\n",
      "\n",
      "   micro avg       0.96      0.96      0.96     17511\n",
      "   macro avg       0.94      0.72      0.79     17511\n",
      "weighted avg       0.96      0.96      0.96     17511\n",
      "\n"
     ]
    }
   ],
   "source": [
    "# XGBoost\n",
    "import xgboost as xgb\n",
    "\n",
    "model=xgb.XGBClassifier(random_state=1,learning_rate=0.1)\n",
    "model.fit(X_train,y_train)\n",
    "model.score(X_val,val)\n",
    "\n",
    "y_pred = model.predict(X_val)\n",
    "\n",
    "yhat_pp = model.predict_proba(X_val)\n",
    "print('log loss:', log_loss(y_val, yhat_pp))\n",
    "print(classification_report( y_val,y_pred))\n",
    "# Slightly worse f1-score, but better log loss score than RFC"
   ]
  },
  {
   "cell_type": "code",
   "execution_count": 23,
   "metadata": {},
   "outputs": [
    {
     "name": "stdout",
     "output_type": "stream",
     "text": [
      "log loss: 0.1534576523508041\n",
      "              precision    recall  f1-score   support\n",
      "\n",
      "         0.0       0.96      1.00      0.98     18118\n",
      "         1.0       0.93      0.53      0.68       556\n",
      "         2.0       0.95      0.78      0.86      1448\n",
      "         3.0       0.73      0.34      0.46       162\n",
      "         4.0       0.98      0.91      0.94      1608\n",
      "\n",
      "   micro avg       0.96      0.96      0.96     21892\n",
      "   macro avg       0.91      0.71      0.78     21892\n",
      "weighted avg       0.96      0.96      0.96     21892\n",
      "\n"
     ]
    }
   ],
   "source": [
    "y_pred = model.predict(X_test_df)\n",
    "\n",
    "yhat_pp = model.predict_proba(X_test_df)\n",
    "print('log loss:', log_loss(y_test_df, yhat_pp))\n",
    "print(classification_report( y_test_df,y_pred))\n",
    "# Slightly worse f1-score, but better log loss score than RFC"
   ]
  },
  {
   "cell_type": "markdown",
   "metadata": {},
   "source": [
    "### C) Model: Neural Networks / Keras\n",
    "Adapted from research paper ArXiv 1805.00794"
   ]
  },
  {
   "cell_type": "code",
   "execution_count": 109,
   "metadata": {},
   "outputs": [],
   "source": [
    "M = train_df.values\n",
    "X = M[:, :-1]\n",
    "y = M[:, -1]\n",
    "\n",
    "C0 = np.argwhere(y == 0).flatten()\n",
    "C1 = np.argwhere(y == 1).flatten()\n",
    "C2 = np.argwhere(y == 2).flatten()\n",
    "C3 = np.argwhere(y == 3).flatten()\n",
    "C4 = np.argwhere(y == 4).flatten()"
   ]
  },
  {
   "cell_type": "code",
   "execution_count": 111,
   "metadata": {},
   "outputs": [
    {
     "data": {
      "image/png": "[encoded data removed]",
      "text/plain": [
       "<Figure size 1440x864 with 1 Axes>"
      ]
     },
     "metadata": {
      "needs_background": "light"
     },
     "output_type": "display_data"
    }
   ],
   "source": [
    "# example of ECG signal for each class\n",
    "x = np.arange(0, 187)*8/1000\n",
    "\n",
    "plt.figure(figsize=(20,12))\n",
    "plt.plot(x, X[C0, :][0], label=\"Class 0\")\n",
    "plt.plot(x, X[C1, :][0], label=\"Class 1\")\n",
    "plt.plot(x, X[C2, :][0], label=\"Class 2\")\n",
    "plt.plot(x, X[C3, :][0], label=\"Class 3\")\n",
    "plt.plot(x, X[C4, :][0], label=\"Class 4\")\n",
    "plt.legend()\n",
    "plt.title(\"ECG signal for each category\", fontsize=20)\n",
    "plt.ylabel(\"Amplitude\", fontsize=15)\n",
    "plt.xlabel(\"Time (ms)\", fontsize=15)\n",
    "plt.show()"
   ]
  },
  {
   "cell_type": "code",
   "execution_count": 72,
   "metadata": {},
   "outputs": [],
   "source": [
    "# feature engineering\n",
    "def stretch(x):\n",
    "    l = int(187 * (1 + (random.random()-0.5)/3))\n",
    "    y = resample(x, l)\n",
    "    if l < 187:\n",
    "        y_ = np.zeros(shape=(187, ))\n",
    "        y_[:l] = y\n",
    "    else:\n",
    "        y_ = y[:187]\n",
    "    return y_\n",
    "\n",
    "def amplify(x):\n",
    "    alpha = (random.random()-0.5)\n",
    "    factor = -alpha*x + (1+alpha)\n",
    "    return x*factor\n",
    "\n",
    "def augment(x):\n",
    "    result = np.zeros(shape= (4, 187))\n",
    "    for i in range(3):\n",
    "        if random.random() < 0.33:\n",
    "            new_y = stretch(x)\n",
    "        elif random.random() < 0.66:\n",
    "            new_y = amplify(x)\n",
    "        else:\n",
    "            new_y = stretch(x)\n",
    "            new_y = amplify(new_y)\n",
    "        result[i, :] = new_y\n",
    "    return result"
   ]
  },
  {
   "cell_type": "code",
   "execution_count": 73,
   "metadata": {},
   "outputs": [
    {
     "data": {
      "image/png": "[encoded data removed]",
      "text/plain": [
       "<Figure size 432x288 with 1 Axes>"
      ]
     },
     "metadata": {
      "needs_background": "light"
     },
     "output_type": "display_data"
    }
   ],
   "source": [
    "# plot of the Class 0 signal after being modified\n",
    "import random\n",
    "from scipy.signal import resample\n",
    "plt.plot(X[0, :])\n",
    "plt.plot(amplify(X[0, :]))\n",
    "plt.plot(stretch(X[0, :]))\n",
    "plt.show()"
   ]
  },
  {
   "cell_type": "code",
   "execution_count": 74,
   "metadata": {},
   "outputs": [],
   "source": [
    "# Set the train and validation dataset\n",
    "result = np.apply_along_axis(augment, axis=1, arr=X[C3]).reshape(-1, 187)\n",
    "classe = np.ones(shape=(result.shape[0],), dtype=int)*3\n",
    "X = np.vstack([X, result])\n",
    "y = np.hstack([y, classe])\n",
    "\n",
    "subC0 = np.random.choice(C0, 400)\n",
    "subC1 = np.random.choice(C1, 400)\n",
    "subC2 = np.random.choice(C2, 400)\n",
    "subC3 = np.random.choice(C3, 400)\n",
    "subC4 = np.random.choice(C4, 400)\n",
    "\n",
    "from sklearn.utils import shuffle\n",
    "\n",
    "X_val = np.vstack([X[subC0], X[subC1], X[subC2], X[subC3], X[subC4]])\n",
    "y_val = np.hstack([y[subC0], y[subC1], y[subC2], y[subC3], y[subC4]])\n",
    "\n",
    "X_train = np.delete(X, [subC0, subC1, subC2, subC3, subC4], axis=0)\n",
    "y_train = np.delete(y, [subC0, subC1, subC2, subC3, subC4], axis=0)\n",
    "\n",
    "X_train, y_train = shuffle(X_train, y_train, random_state=0)\n",
    "X_val, y_val = shuffle(X_val, y_val, random_state=0)\n"
   ]
  },
  {
   "cell_type": "code",
   "execution_count": 77,
   "metadata": {},
   "outputs": [
    {
     "name": "stdout",
     "output_type": "stream",
     "text": [
      "X_train (88278, 187, 1)\n",
      "y_train (88278, 5)\n",
      "X_val (2000, 187, 1)\n",
      "y_val (2000, 5)\n"
     ]
    }
   ],
   "source": [
    "# transform data for modelling\n",
    "X_train = np.expand_dims(X_train, 2)\n",
    "X_val = np.expand_dims(X_val, 2)\n",
    "ohe = OneHotEncoder()\n",
    "y_train = ohe.fit_transform(y_train.reshape(-1,1))\n",
    "y_val = ohe.transform(y_val.reshape(-1,1))\n",
    "print(\"X_train\", X_train.shape)\n",
    "print(\"y_train\", y_train.shape)\n",
    "print(\"X_val\", X_val.shape)\n",
    "print(\"y_val\", y_val.shape)"
   ]
  },
  {
   "cell_type": "code",
   "execution_count": 78,
   "metadata": {},
   "outputs": [],
   "source": [
    "# Modelling setting\n",
    "n_obs, feature, depth = X_train.shape\n",
    "batch_size = 500"
   ]
  },
  {
   "cell_type": "code",
   "execution_count": 79,
   "metadata": {},
   "outputs": [
    {
     "name": "stdout",
     "output_type": "stream",
     "text": [
      "__________________________________________________________________________________________________\n",
      "Layer (type)                    Output Shape         Param #     Connected to                     \n",
      "==================================================================================================\n",
      "input_1 (InputLayer)            (None, 187, 1)       0                                            \n",
      "__________________________________________________________________________________________________\n",
      "conv1d_1 (Conv1D)               (None, 183, 32)      192         input_1[0][0]                    \n",
      "__________________________________________________________________________________________________\n",
      "conv1d_2 (Conv1D)               (None, 183, 32)      5152        conv1d_1[0][0]                   \n",
      "__________________________________________________________________________________________________\n",
      "activation_1 (Activation)       (None, 183, 32)      0           conv1d_2[0][0]                   \n",
      "__________________________________________________________________________________________________\n",
      "conv1d_3 (Conv1D)               (None, 183, 32)      5152        activation_1[0][0]               \n",
      "__________________________________________________________________________________________________\n",
      "add_1 (Add)                     (None, 183, 32)      0           conv1d_3[0][0]                   \n",
      "                                                                 conv1d_1[0][0]                   \n",
      "__________________________________________________________________________________________________\n",
      "activation_4 (Activation)       (None, 183, 32)      0           add_1[0][0]                      \n",
      "__________________________________________________________________________________________________\n",
      "max_pooling1d_2 (MaxPooling1D)  (None, 90, 32)       0           activation_4[0][0]               \n",
      "__________________________________________________________________________________________________\n",
      "conv1d_6 (Conv1D)               (None, 90, 32)       5152        max_pooling1d_2[0][0]            \n",
      "__________________________________________________________________________________________________\n",
      "activation_5 (Activation)       (None, 90, 32)       0           conv1d_6[0][0]                   \n",
      "__________________________________________________________________________________________________\n",
      "conv1d_7 (Conv1D)               (None, 90, 32)       5152        activation_5[0][0]               \n",
      "__________________________________________________________________________________________________\n",
      "add_3 (Add)                     (None, 90, 32)       0           conv1d_7[0][0]                   \n",
      "                                                                 max_pooling1d_2[0][0]            \n",
      "__________________________________________________________________________________________________\n",
      "activation_6 (Activation)       (None, 90, 32)       0           add_3[0][0]                      \n",
      "__________________________________________________________________________________________________\n",
      "max_pooling1d_3 (MaxPooling1D)  (None, 43, 32)       0           activation_6[0][0]               \n",
      "__________________________________________________________________________________________________\n",
      "conv1d_8 (Conv1D)               (None, 43, 32)       5152        max_pooling1d_3[0][0]            \n",
      "__________________________________________________________________________________________________\n",
      "activation_7 (Activation)       (None, 43, 32)       0           conv1d_8[0][0]                   \n",
      "__________________________________________________________________________________________________\n",
      "conv1d_9 (Conv1D)               (None, 43, 32)       5152        activation_7[0][0]               \n",
      "__________________________________________________________________________________________________\n",
      "add_4 (Add)                     (None, 43, 32)       0           conv1d_9[0][0]                   \n",
      "                                                                 max_pooling1d_3[0][0]            \n",
      "__________________________________________________________________________________________________\n",
      "activation_8 (Activation)       (None, 43, 32)       0           add_4[0][0]                      \n",
      "__________________________________________________________________________________________________\n",
      "max_pooling1d_4 (MaxPooling1D)  (None, 20, 32)       0           activation_8[0][0]               \n",
      "__________________________________________________________________________________________________\n",
      "conv1d_10 (Conv1D)              (None, 20, 32)       5152        max_pooling1d_4[0][0]            \n",
      "__________________________________________________________________________________________________\n",
      "activation_9 (Activation)       (None, 20, 32)       0           conv1d_10[0][0]                  \n",
      "__________________________________________________________________________________________________\n",
      "conv1d_11 (Conv1D)              (None, 20, 32)       5152        activation_9[0][0]               \n",
      "__________________________________________________________________________________________________\n",
      "add_5 (Add)                     (None, 20, 32)       0           conv1d_11[0][0]                  \n",
      "                                                                 max_pooling1d_4[0][0]            \n",
      "__________________________________________________________________________________________________\n",
      "activation_10 (Activation)      (None, 20, 32)       0           add_5[0][0]                      \n",
      "__________________________________________________________________________________________________\n",
      "max_pooling1d_5 (MaxPooling1D)  (None, 8, 32)        0           activation_10[0][0]              \n",
      "__________________________________________________________________________________________________\n",
      "flatten_1 (Flatten)             (None, 256)          0           max_pooling1d_5[0][0]            \n",
      "__________________________________________________________________________________________________\n",
      "dense_1 (Dense)                 (None, 32)           8224        flatten_1[0][0]                  \n",
      "__________________________________________________________________________________________________\n",
      "activation_11 (Activation)      (None, 32)           0           dense_1[0][0]                    \n",
      "__________________________________________________________________________________________________\n",
      "dense_2 (Dense)                 (None, 32)           1056        activation_11[0][0]              \n",
      "__________________________________________________________________________________________________\n",
      "dense_3 (Dense)                 (None, 5)            165         dense_2[0][0]                    \n",
      "__________________________________________________________________________________________________\n",
      "softmax_1 (Softmax)             (None, 5)            0           dense_3[0][0]                    \n",
      "==================================================================================================\n",
      "Total params: 50,853\n",
      "Trainable params: 50,853\n",
      "Non-trainable params: 0\n",
      "__________________________________________________________________________________________________\n"
     ]
    }
   ],
   "source": [
    "K.clear_session()\n",
    "\n",
    "inp = Input(shape=(feature, depth))\n",
    "C = Conv1D(filters=32, kernel_size=5, strides=1)(inp)\n",
    "\n",
    "C11 = Conv1D(filters=32, kernel_size=5, strides=1, padding='same')(C)\n",
    "A11 = Activation(\"relu\")(C11)\n",
    "C12 = Conv1D(filters=32, kernel_size=5, strides=1, padding='same')(A11)\n",
    "S11 = Add()([C12, C])\n",
    "A12 = Activation(\"relu\")(S11)\n",
    "M11 = MaxPooling1D(pool_size=5, strides=2)(A12)\n",
    "\n",
    "\n",
    "C21 = Conv1D(filters=32, kernel_size=5, strides=1, padding='same')(M11)\n",
    "A21 = Activation(\"relu\")(C21)\n",
    "C22 = Conv1D(filters=32, kernel_size=5, strides=1, padding='same')(A21)\n",
    "S21 = Add()([C22, M11])\n",
    "A22 = Activation(\"relu\")(S11)\n",
    "M21 = MaxPooling1D(pool_size=5, strides=2)(A22)\n",
    "\n",
    "\n",
    "C31 = Conv1D(filters=32, kernel_size=5, strides=1, padding='same')(M21)\n",
    "A31 = Activation(\"relu\")(C31)\n",
    "C32 = Conv1D(filters=32, kernel_size=5, strides=1, padding='same')(A31)\n",
    "S31 = Add()([C32, M21])\n",
    "A32 = Activation(\"relu\")(S31)\n",
    "M31 = MaxPooling1D(pool_size=5, strides=2)(A32)\n",
    "\n",
    "\n",
    "C41 = Conv1D(filters=32, kernel_size=5, strides=1, padding='same')(M31)\n",
    "A41 = Activation(\"relu\")(C41)\n",
    "C42 = Conv1D(filters=32, kernel_size=5, strides=1, padding='same')(A41)\n",
    "S41 = Add()([C42, M31])\n",
    "A42 = Activation(\"relu\")(S41)\n",
    "M41 = MaxPooling1D(pool_size=5, strides=2)(A42)\n",
    "\n",
    "\n",
    "C51 = Conv1D(filters=32, kernel_size=5, strides=1, padding='same')(M41)\n",
    "A51 = Activation(\"relu\")(C51)\n",
    "C52 = Conv1D(filters=32, kernel_size=5, strides=1, padding='same')(A51)\n",
    "S51 = Add()([C52, M41])\n",
    "A52 = Activation(\"relu\")(S51)\n",
    "M51 = MaxPooling1D(pool_size=5, strides=2)(A52)\n",
    "\n",
    "F1 = Flatten()(M51)\n",
    "\n",
    "D1 = Dense(32)(F1)\n",
    "A6 = Activation(\"relu\")(D1)\n",
    "D2 = Dense(32)(A6)\n",
    "D3 = Dense(5)(D2)\n",
    "A7 = Softmax()(D3)\n",
    "\n",
    "model = Model(inputs=inp, outputs=A7)\n",
    "\n",
    "model.summary()"
   ]
  },
  {
   "cell_type": "code",
   "execution_count": 83,
   "metadata": {},
   "outputs": [
    {
     "name": "stdout",
     "output_type": "stream",
     "text": [
      "Train on 88278 samples, validate on 2000 samples\n",
      "Epoch 1/75\n",
      " - 148s - loss: 0.4232 - acc: 0.8747 - val_loss: 0.8576 - val_acc: 0.7155\n",
      "Epoch 2/75\n",
      " - 147s - loss: 0.1723 - acc: 0.9513 - val_loss: 0.5707 - val_acc: 0.8215\n",
      "Epoch 3/75\n",
      " - 147s - loss: 0.1270 - acc: 0.9652 - val_loss: 0.5701 - val_acc: 0.8190\n",
      "Epoch 4/75\n",
      " - 146s - loss: 0.1048 - acc: 0.9705 - val_loss: 0.4152 - val_acc: 0.8710\n",
      "Epoch 5/75\n",
      " - 147s - loss: 0.0897 - acc: 0.9748 - val_loss: 0.3947 - val_acc: 0.8765\n",
      "Epoch 6/75\n",
      " - 159s - loss: 0.0809 - acc: 0.9769 - val_loss: 0.4289 - val_acc: 0.8730\n",
      "Epoch 7/75\n",
      " - 166s - loss: 0.0737 - acc: 0.9783 - val_loss: 0.3062 - val_acc: 0.8945\n",
      "Epoch 8/75\n",
      " - 151s - loss: 0.0644 - acc: 0.9810 - val_loss: 0.4267 - val_acc: 0.8855\n",
      "Epoch 9/75\n",
      " - 152s - loss: 0.0622 - acc: 0.9810 - val_loss: 0.3795 - val_acc: 0.8885\n",
      "Epoch 10/75\n",
      " - 152s - loss: 0.0584 - acc: 0.9822 - val_loss: 0.2939 - val_acc: 0.9005\n",
      "Epoch 11/75\n",
      " - 169s - loss: 0.0512 - acc: 0.9843 - val_loss: 0.2598 - val_acc: 0.9095\n",
      "Epoch 12/75\n",
      " - 163s - loss: 0.0469 - acc: 0.9853 - val_loss: 0.4337 - val_acc: 0.8640\n",
      "Epoch 13/75\n",
      " - 162s - loss: 0.0442 - acc: 0.9860 - val_loss: 0.3284 - val_acc: 0.8995\n",
      "Epoch 14/75\n",
      " - 165s - loss: 0.0429 - acc: 0.9861 - val_loss: 0.3633 - val_acc: 0.8980\n",
      "Epoch 15/75\n",
      " - 165s - loss: 0.0395 - acc: 0.9874 - val_loss: 0.2635 - val_acc: 0.9150\n",
      "Epoch 16/75\n",
      " - 147s - loss: 0.0365 - acc: 0.9882 - val_loss: 0.2682 - val_acc: 0.9265\n",
      "Epoch 17/75\n",
      " - 146s - loss: 0.0355 - acc: 0.9880 - val_loss: 0.2982 - val_acc: 0.9080\n",
      "Epoch 18/75\n",
      " - 147s - loss: 0.0331 - acc: 0.9891 - val_loss: 0.2310 - val_acc: 0.9215\n",
      "Epoch 19/75\n",
      " - 146s - loss: 0.0328 - acc: 0.9892 - val_loss: 0.2176 - val_acc: 0.9310\n",
      "Epoch 20/75\n",
      " - 146s - loss: 0.0287 - acc: 0.9903 - val_loss: 0.3236 - val_acc: 0.9090\n",
      "Epoch 21/75\n",
      " - 146s - loss: 0.0284 - acc: 0.9906 - val_loss: 0.2992 - val_acc: 0.9115\n",
      "Epoch 22/75\n",
      " - 146s - loss: 0.0291 - acc: 0.9901 - val_loss: 0.3854 - val_acc: 0.8960\n",
      "Epoch 23/75\n",
      " - 154s - loss: 0.0251 - acc: 0.9917 - val_loss: 0.2221 - val_acc: 0.9370\n",
      "Epoch 24/75\n",
      " - 180s - loss: 0.0245 - acc: 0.9917 - val_loss: 0.3405 - val_acc: 0.9065\n",
      "Epoch 25/75\n",
      " - 167s - loss: 0.0250 - acc: 0.9915 - val_loss: 0.2765 - val_acc: 0.9190\n",
      "Epoch 26/75\n",
      " - 166s - loss: 0.0232 - acc: 0.9919 - val_loss: 0.3408 - val_acc: 0.9130\n",
      "Epoch 27/75\n",
      " - 147s - loss: 0.0217 - acc: 0.9925 - val_loss: 0.2210 - val_acc: 0.9385\n",
      "Epoch 28/75\n",
      " - 147s - loss: 0.0210 - acc: 0.9927 - val_loss: 0.2531 - val_acc: 0.9325\n",
      "Epoch 29/75\n",
      " - 147s - loss: 0.0212 - acc: 0.9926 - val_loss: 0.2324 - val_acc: 0.9360\n",
      "Epoch 30/75\n",
      " - 147s - loss: 0.0201 - acc: 0.9931 - val_loss: 0.2425 - val_acc: 0.9325\n",
      "Epoch 31/75\n",
      " - 150s - loss: 0.0181 - acc: 0.9937 - val_loss: 0.1867 - val_acc: 0.9535\n",
      "Epoch 32/75\n",
      " - 147s - loss: 0.0191 - acc: 0.9933 - val_loss: 0.2364 - val_acc: 0.9280\n",
      "Epoch 33/75\n",
      " - 152s - loss: 0.0167 - acc: 0.9940 - val_loss: 0.2486 - val_acc: 0.9315\n",
      "Epoch 34/75\n",
      " - 147s - loss: 0.0159 - acc: 0.9946 - val_loss: 0.2894 - val_acc: 0.9230\n",
      "Epoch 35/75\n",
      " - 147s - loss: 0.0144 - acc: 0.9950 - val_loss: 0.2813 - val_acc: 0.9275\n",
      "Epoch 36/75\n",
      " - 147s - loss: 0.0161 - acc: 0.9942 - val_loss: 0.1643 - val_acc: 0.9530\n",
      "Epoch 37/75\n",
      " - 146s - loss: 0.0149 - acc: 0.9948 - val_loss: 0.2595 - val_acc: 0.9390\n",
      "Epoch 38/75\n",
      " - 146s - loss: 0.0170 - acc: 0.9939 - val_loss: 0.2729 - val_acc: 0.9340\n",
      "Epoch 39/75\n",
      " - 146s - loss: 0.0166 - acc: 0.9942 - val_loss: 0.2582 - val_acc: 0.9295\n",
      "Epoch 40/75\n",
      " - 147s - loss: 0.0152 - acc: 0.9947 - val_loss: 0.2281 - val_acc: 0.9465\n",
      "Epoch 41/75\n",
      " - 149s - loss: 0.0136 - acc: 0.9950 - val_loss: 0.2498 - val_acc: 0.9410\n",
      "Epoch 42/75\n",
      " - 146s - loss: 0.0138 - acc: 0.9953 - val_loss: 0.2478 - val_acc: 0.9405\n",
      "Epoch 43/75\n",
      " - 146s - loss: 0.0140 - acc: 0.9950 - val_loss: 0.3155 - val_acc: 0.9285\n",
      "Epoch 44/75\n",
      " - 161s - loss: 0.0116 - acc: 0.9958 - val_loss: 0.3518 - val_acc: 0.9250\n",
      "Epoch 45/75\n",
      " - 162s - loss: 0.0134 - acc: 0.9954 - val_loss: 0.3352 - val_acc: 0.9175\n",
      "Epoch 46/75\n",
      " - 166s - loss: 0.0115 - acc: 0.9959 - val_loss: 0.2777 - val_acc: 0.9295\n",
      "Epoch 47/75\n",
      " - 162s - loss: 0.0123 - acc: 0.9958 - val_loss: 0.2545 - val_acc: 0.9400\n",
      "Epoch 48/75\n",
      " - 166s - loss: 0.0111 - acc: 0.9962 - val_loss: 0.2499 - val_acc: 0.9420\n",
      "Epoch 49/75\n",
      " - 174s - loss: 0.0139 - acc: 0.9949 - val_loss: 0.2653 - val_acc: 0.9385\n",
      "Epoch 50/75\n",
      " - 175s - loss: 0.0125 - acc: 0.9958 - val_loss: 0.3269 - val_acc: 0.9405\n",
      "Epoch 51/75\n",
      " - 171s - loss: 0.0121 - acc: 0.9955 - val_loss: 0.3108 - val_acc: 0.9240\n",
      "Epoch 52/75\n",
      " - 175s - loss: 0.0102 - acc: 0.9963 - val_loss: 0.2593 - val_acc: 0.9435\n",
      "Epoch 53/75\n",
      " - 181s - loss: 0.0112 - acc: 0.9962 - val_loss: 0.3038 - val_acc: 0.9295\n",
      "Epoch 54/75\n",
      " - 187s - loss: 0.0113 - acc: 0.9960 - val_loss: 0.2301 - val_acc: 0.9430\n",
      "Epoch 55/75\n",
      " - 176s - loss: 0.0111 - acc: 0.9959 - val_loss: 0.2809 - val_acc: 0.9385\n",
      "Epoch 56/75\n",
      " - 172s - loss: 0.0077 - acc: 0.9974 - val_loss: 0.3041 - val_acc: 0.9290\n",
      "Epoch 57/75\n",
      " - 169s - loss: 0.0149 - acc: 0.9949 - val_loss: 0.2484 - val_acc: 0.9475\n",
      "Epoch 58/75\n",
      " - 168s - loss: 0.0105 - acc: 0.9965 - val_loss: 0.2659 - val_acc: 0.9460\n",
      "Epoch 59/75\n",
      " - 167s - loss: 0.0114 - acc: 0.9956 - val_loss: 0.2769 - val_acc: 0.9360\n",
      "Epoch 60/75\n",
      " - 170s - loss: 0.0089 - acc: 0.9966 - val_loss: 0.3375 - val_acc: 0.9275\n",
      "Epoch 61/75\n",
      " - 166s - loss: 0.0094 - acc: 0.9967 - val_loss: 0.3053 - val_acc: 0.9405\n",
      "Epoch 62/75\n",
      " - 164s - loss: 0.0100 - acc: 0.9965 - val_loss: 0.3027 - val_acc: 0.9355\n",
      "Epoch 63/75\n",
      " - 169s - loss: 0.0106 - acc: 0.9964 - val_loss: 0.2361 - val_acc: 0.9520\n",
      "Epoch 64/75\n",
      " - 167s - loss: 0.0076 - acc: 0.9973 - val_loss: 0.3247 - val_acc: 0.9350\n",
      "Epoch 65/75\n",
      " - 164s - loss: 0.0085 - acc: 0.9970 - val_loss: 0.3331 - val_acc: 0.9420\n",
      "Epoch 66/75\n",
      " - 167s - loss: 0.0123 - acc: 0.9957 - val_loss: 0.3170 - val_acc: 0.9220\n",
      "Epoch 67/75\n",
      " - 153s - loss: 0.0091 - acc: 0.9967 - val_loss: 0.2927 - val_acc: 0.9365\n",
      "Epoch 68/75\n",
      " - 148s - loss: 0.0069 - acc: 0.9975 - val_loss: 0.2734 - val_acc: 0.9465\n",
      "Epoch 69/75\n",
      " - 148s - loss: 0.0073 - acc: 0.9973 - val_loss: 0.3107 - val_acc: 0.9420\n",
      "Epoch 70/75\n",
      " - 146s - loss: 0.0109 - acc: 0.9962 - val_loss: 0.3336 - val_acc: 0.9310\n",
      "Epoch 71/75\n",
      " - 146s - loss: 0.0084 - acc: 0.9970 - val_loss: 0.2803 - val_acc: 0.9445\n",
      "Epoch 72/75\n",
      " - 166s - loss: 0.0116 - acc: 0.9960 - val_loss: 0.2849 - val_acc: 0.9360\n",
      "Epoch 73/75\n",
      " - 166s - loss: 0.0074 - acc: 0.9974 - val_loss: 0.4241 - val_acc: 0.9265\n",
      "Epoch 74/75\n",
      " - 148s - loss: 0.0054 - acc: 0.9980 - val_loss: 0.3507 - val_acc: 0.9410\n",
      "Epoch 75/75\n",
      " - 148s - loss: 0.0101 - acc: 0.9963 - val_loss: 0.3231 - val_acc: 0.9230\n"
     ]
    }
   ],
   "source": [
    "# run the model\n",
    "import math\n",
    "\n",
    "def exp_decay(epoch):\n",
    "    initial_lrate = 0.001\n",
    "    k = 0.75\n",
    "    t = n_obs//(10000 * batch_size)  # every epoch we do n_obs/batch_size iteration\n",
    "    lrate = initial_lrate * math.exp(-k*t)\n",
    "    return lrate\n",
    "\n",
    "lrate = LearningRateScheduler(exp_decay)\n",
    "\n",
    "\n",
    "\n",
    "adam = Adam(lr = 0.001, beta_1 = 0.9, beta_2 = 0.999)\n",
    "\n",
    "\n",
    "\n",
    "model.compile(loss='categorical_crossentropy', optimizer=adam, metrics=['accuracy'])\n",
    "\n",
    "history = model.fit(X_train, y_train, \n",
    "                    epochs=75, \n",
    "                    batch_size=batch_size, \n",
    "                    verbose=2, \n",
    "                    validation_data=(X_val, y_val), \n",
    "                    callbacks=[lrate])"
   ]
  },
  {
   "cell_type": "code",
   "execution_count": 114,
   "metadata": {},
   "outputs": [
    {
     "name": "stdout",
     "output_type": "stream",
     "text": [
      "log loss : 0.324\n",
      "              precision    recall  f1-score   support\n",
      "\n",
      "           0       0.81      0.99      0.89       400\n",
      "           1       1.00      0.83      0.91       400\n",
      "           2       0.88      0.97      0.92       400\n",
      "           3       0.99      0.83      0.90       400\n",
      "           4       0.99      0.99      0.99       400\n",
      "\n",
      "   micro avg       0.92      0.92      0.92      2000\n",
      "   macro avg       0.93      0.92      0.92      2000\n",
      "weighted avg       0.93      0.92      0.92      2000\n",
      "\n"
     ]
    }
   ],
   "source": [
    "# check on validation set\n",
    "y_pred = model.predict(X_val, batch_size=1000)\n",
    "print(\"log loss : {:.3f}\".format(log_loss(y_val.todense(), y_pred)))\n",
    "print(classification_report(y_val.argmax(axis=1), y_pred.argmax(axis=1)))\n",
    "# comparable result as RFC, prediction are better for the minority groups"
   ]
  },
  {
   "cell_type": "code",
   "execution_count": 94,
   "metadata": {},
   "outputs": [],
   "source": [
    "# predict test set\n",
    "M = test_df.values\n",
    "X_test = M[:, :-1]\n",
    "y_test = M[:, -1]"
   ]
  },
  {
   "cell_type": "code",
   "execution_count": 96,
   "metadata": {},
   "outputs": [
    {
     "name": "stdout",
     "output_type": "stream",
     "text": [
      "X_train (21892, 187, 1)\n",
      "y_train (21892, 5)\n"
     ]
    }
   ],
   "source": [
    "X_test = np.expand_dims(X_test, 2)\n",
    "ohe = OneHotEncoder()\n",
    "y_test = ohe.fit_transform(y_test.reshape(-1,1))\n",
    "\n",
    "print(\"X_train\", X_test.shape)\n",
    "print(\"y_train\", y_test.shape)"
   ]
  },
  {
   "cell_type": "code",
   "execution_count": 116,
   "metadata": {},
   "outputs": [
    {
     "name": "stdout",
     "output_type": "stream",
     "text": [
      "log loss: 0.081\n",
      "              precision    recall  f1-score   support\n",
      "\n",
      "           0       0.99      0.99      0.99     18118\n",
      "           1       0.90      0.81      0.85       556\n",
      "           2       0.96      0.97      0.96      1448\n",
      "           3       0.84      0.78      0.81       162\n",
      "           4       0.99      0.99      0.99      1608\n",
      "\n",
      "   micro avg       0.99      0.99      0.99     21892\n",
      "   macro avg       0.93      0.91      0.92     21892\n",
      "weighted avg       0.99      0.99      0.99     21892\n",
      "\n"
     ]
    }
   ],
   "source": [
    "y_pred2 = model.predict(X_test)\n",
    "print(\"log loss: {:.3f}\".format(log_loss(y_test.todense(), y_pred2)))\n",
    "print(classification_report(y_test.argmax(axis=1), y_pred2.argmax(axis=1)))\n",
    "# slightly better result than RFC for the test set"
   ]
  },
  {
   "cell_type": "markdown",
   "metadata": {},
   "source": [
    "# Part 3 - Evaluation"
   ]
  },
  {
   "cell_type": "code",
   "execution_count": 119,
   "metadata": {},
   "outputs": [
    {
     "data": {
      "text/html": [
       "<div>\n",
       "<style scoped>\n",
       "    .dataframe tbody tr th:only-of-type {\n",
       "        vertical-align: middle;\n",
       "    }\n",
       "\n",
       "    .dataframe tbody tr th {\n",
       "        vertical-align: top;\n",
       "    }\n",
       "\n",
       "    .dataframe thead th {\n",
       "        text-align: right;\n",
       "    }\n",
       "</style>\n",
       "<table border=\"1\" class=\"dataframe\">\n",
       "  <thead>\n",
       "    <tr style=\"text-align: right;\">\n",
       "      <th></th>\n",
       "      <th>pred_0</th>\n",
       "      <th>pred_1</th>\n",
       "      <th>pred_2</th>\n",
       "      <th>pred_3</th>\n",
       "      <th>pred_4</th>\n",
       "    </tr>\n",
       "  </thead>\n",
       "  <tbody>\n",
       "    <tr>\n",
       "      <th>0</th>\n",
       "      <td>18021</td>\n",
       "      <td>43</td>\n",
       "      <td>32</td>\n",
       "      <td>12</td>\n",
       "      <td>10</td>\n",
       "    </tr>\n",
       "    <tr>\n",
       "      <th>1</th>\n",
       "      <td>92</td>\n",
       "      <td>448</td>\n",
       "      <td>13</td>\n",
       "      <td>2</td>\n",
       "      <td>1</td>\n",
       "    </tr>\n",
       "    <tr>\n",
       "      <th>2</th>\n",
       "      <td>26</td>\n",
       "      <td>5</td>\n",
       "      <td>1401</td>\n",
       "      <td>11</td>\n",
       "      <td>5</td>\n",
       "    </tr>\n",
       "    <tr>\n",
       "      <th>3</th>\n",
       "      <td>14</td>\n",
       "      <td>0</td>\n",
       "      <td>20</td>\n",
       "      <td>127</td>\n",
       "      <td>1</td>\n",
       "    </tr>\n",
       "    <tr>\n",
       "      <th>4</th>\n",
       "      <td>13</td>\n",
       "      <td>2</td>\n",
       "      <td>1</td>\n",
       "      <td>0</td>\n",
       "      <td>1592</td>\n",
       "    </tr>\n",
       "  </tbody>\n",
       "</table>\n",
       "</div>"
      ],
      "text/plain": [
       "   pred_0  pred_1  pred_2  pred_3  pred_4\n",
       "0   18021      43      32      12      10\n",
       "1      92     448      13       2       1\n",
       "2      26       5    1401      11       5\n",
       "3      14       0      20     127       1\n",
       "4      13       2       1       0    1592"
      ]
     },
     "execution_count": 119,
     "metadata": {},
     "output_type": "execute_result"
    }
   ],
   "source": [
    "confusion_mat = pd.DataFrame(np.array(confusion_matrix(y_test.argmax(axis=1), y_pred2.argmax(axis=1))),\n",
    "                         index = ['0', '1','2', '3','4'],\n",
    "                        columns=['pred_0', 'pred_1','pred_2', 'pred_3','pred_4'])\n",
    "confusion_mat"
   ]
  },
  {
   "cell_type": "code",
   "execution_count": 118,
   "metadata": {},
   "outputs": [
    {
     "data": {
      "image/png": "[encoded data removed]",
      "text/plain": [
       "<Figure size 720x720 with 2 Axes>"
      ]
     },
     "metadata": {
      "needs_background": "light"
     },
     "output_type": "display_data"
    }
   ],
   "source": [
    "# confusion matrix of individual class fraction \n",
    "import seaborn as sns\n",
    "conf_mat=pd.DataFrame(np.array(confusion_matrix(y_test.argmax(axis=1), y_pred2.argmax(axis=1))),\n",
    "                         index = ['0', '1','2', '3','4'],\n",
    "                        columns=['pred_0', 'pred_1','pred_2', 'pred_3','pred_4'])\n",
    "fig, ax = plt.subplots(figsize=(10,10))\n",
    "sns.heatmap(conf_mat.apply(lambda x: x/x.sum(),axis=1), annot=True, cmap = 'Blues')\n",
    "plt.ylabel('True label')\n",
    "plt.xlabel('Predicted label')\n",
    "plt.show()"
   ]
  },
  {
   "cell_type": "markdown",
   "metadata": {},
   "source": [
    "# Insights\n",
    "- Class 0, 2 , 4 are well predicted.\n",
    "- Limitation: class 1 and 3 (minority) are about 80 % predicted correctly.\n",
    "- about 17% of class 1 are predicted as 0. Try extract these 2 classes and further study them may give better prediction.\n",
    "- about 12% of class 3 are predicted as 2. Try extract these 2 classes and further study them may give better prediction."
   ]
  },
  {
   "cell_type": "code",
   "execution_count": null,
   "metadata": {},
   "outputs": [],
   "source": []
  }
 ],
 "metadata": {
  "kernelspec": {
   "display_name": "Python 3",
   "language": "python",
   "name": "python3"
  },
  "language_info": {
   "codemirror_mode": {
    "name": "ipython",
    "version": 3
   },
   "file_extension": ".py",
   "mimetype": "text/x-python",
   "name": "python",
   "nbconvert_exporter": "python",
   "pygments_lexer": "ipython3",
   "version": "3.6.8"
  }
 },
 "nbformat": 4,
 "nbformat_minor": 2
}
